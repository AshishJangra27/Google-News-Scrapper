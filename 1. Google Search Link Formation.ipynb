{
 "cells": [
  {
   "cell_type": "code",
   "execution_count": 72,
   "id": "e0a2f5d6",
   "metadata": {},
   "outputs": [
    {
     "name": "stdout",
     "output_type": "stream",
     "text": [
      "Enter the title: Ukraine to Russia\n"
     ]
    }
   ],
   "source": [
    "import requests\n",
    "import pandas as pd\n",
    "from bs4 import BeautifulSoup\n",
    "\n",
    "topic = input('Enter the title: ').replace(' ','+')\n",
    "\n",
    "link = 'https://www.google.com/search?q=' + topic\n",
    "res = requests.get(link)\n",
    "\n",
    "soup = BeautifulSoup(res.text, 'html.parser')"
   ]
  },
  {
   "cell_type": "code",
   "execution_count": 73,
   "id": "921ae371",
   "metadata": {},
   "outputs": [
    {
     "data": {
      "text/plain": [
       "'Ukraine to Russia - Google SearchGoogleGoogle×Please click here if you are not redirected within a few seconds.    AllMapsNewsImages Videos Shopping Books Search tools    Any timeAny timePast hourPast 24 hoursPast weekPast monthPast yearAll resultsAll resultsVerbatimTop storiesRussia-Ukraine war news live updates: Congress supports govt\\'s stand of \\nabstaining from voting in UNSCTimes of India\\n24 mins agoUkraine Confirms Major City Lost As Russia Steps Up Bombing: 10 PointsNDTV.com\\n1 hour agoUAE stance on Ukraine war reflects ‘strong alliance’ with RussiaAl Jazeera\\n47 mins agoFrance Fears Russia\\'s \"Seige Mentality\" In \"Despicable\" Ukraine InvasionNDTV.com\\n40 mins agoRussia-Ukraine crisis Live: Ukraine says 34 civilians killed in Kharkiv \\nregion, no water or power in Mariupol cityThe Indian Express\\n29 mins agoRussia Ukraine War News LIVE Updates | France advises its citizens to leave \\nRussiaMoneycontrol\\n6 mins agoMysterious absence of Russian Air Force in Ukraine warIndia Today\\n17 hours agoUkraine crisis: Humanitarian corridors in the works, Russia tells IndiaHindustan Times\\n7 hours agoRussia-Ukraine crisis live updates | Russian forces capture Ukrainian city \\nof KhersonThe Hindu\\n6 hours agoRussia-Ukraine war latest news LIVE updates: PM Modi to join Quad meet with \\nBiden & others; Russian military pCNBC Tv18\\n11 mins agoPeople also askIs Ukraine under Russia?Is Ukraine allies with Russia?What is the Russian death toll in Ukraine?How much of Ukraine is Russian?Russia Ukraine War News LIVE Updates - Times of Indiatimesofindia.indiatimes.com › World News › Europe News25 minutes ago · Russian troops are in the southern Ukrainian city of Kherson and forced their way into the council building. The port city of Kherson,\\xa0...Russia-Ukraine War LIVE Updates: Russia Says 498 Troops Killedwww.ndtv.com › World3 hours ago · Russian forces claim to have taken the besieged Black Sea city of Kherson in Ukraine\\'s south but the city\\'s mayor insists it is still in\\xa0...Why is Russia invading Ukraine and what does Putin want? - BBCwww.bbc.com › news › world-europe-567205892 days ago · By air, land, and sea, Russia has launched a devastating attack on Ukraine, a European democracy of 44 million people.Russia-Ukraine war live updates: Kharkiv under fresh attack, more ...www.nbcnews.com › news › world › live-blog › russia-ukraine-war-live-u...3 hours ago · Get live updates, and the latest news coverage on Russia\\'s invasion of Ukraine, as Putin\\'s forces launch a fresh assault on Kharkiv.Russia-Ukraine war news LIVE updates - India Todaywww.indiatoday.in › World › Russia-Ukraine War16 minutes ago · Russia-Ukraine War LIVE | Ukraine doesn\\'t want to be covered by your dead bodies: Zelenskyy to Russian soldiers.Ukraine Crisis Live News, Russia - The Indian Expressindianexpress.com › World30 minutes ago · Russia Ukraine Crisis Live: Russian shelling and attacks on civilian populations killed 34 civilians in Ukraine\\'s eastern Kharkiv region in\\xa0...Russia-Ukraine crisis Highlights: Four dead in Russian strike on ...indianexpress.com › World1 day ago · Russia Ukraine War News, World War 3 News Updates: Earlier on Tuesday, an Indian student lost his life in the shelling in Kharkiv.Russia-Ukraine war LIVE updates: PM Modi to attend Quad leaders ...www.cnbctv18.com › world11 minutes ago · Russia-Ukraine War news LIVE Updates: The Russian military intensified its assault on Ukrainian cities on Thursday, capturing at least one\\xa0...Ukraine - Wikipediaen.wikipedia.org › wiki › UkraineUkraine was the most populous and industrialised republic after the Russian\\xa0...Government: Unitary semi-presidential republicReligion (2018): 87.3% Christianity; 11.0% Irreligion; 0.8% Others; 0.9% UnansweredCurrency: Hryvnia (₴) (UAH)Demonym(s): UkrainianRelated searchesWhy Russia wants UkraineRussia-Ukraine conflict summaryRussia-Ukraine relationsrussia-ukraine conflict summary 2020Ukraine and Russia mapUkraine newsWill Russia invade UkraineRussia-Ukraine news  Next >  \\xa0-\\xa0Learn moreSign inSettingsPrivacyTerms '"
      ]
     },
     "execution_count": 73,
     "metadata": {},
     "output_type": "execute_result"
    }
   ],
   "source": [
    "soup.text"
   ]
  },
  {
   "cell_type": "code",
   "execution_count": null,
   "id": "d0b55fb4",
   "metadata": {},
   "outputs": [],
   "source": []
  }
 ],
 "metadata": {
  "kernelspec": {
   "display_name": "Python 3 (ipykernel)",
   "language": "python",
   "name": "python3"
  },
  "language_info": {
   "codemirror_mode": {
    "name": "ipython",
    "version": 3
   },
   "file_extension": ".py",
   "mimetype": "text/x-python",
   "name": "python",
   "nbconvert_exporter": "python",
   "pygments_lexer": "ipython3",
   "version": "3.9.7"
  }
 },
 "nbformat": 4,
 "nbformat_minor": 5
}
