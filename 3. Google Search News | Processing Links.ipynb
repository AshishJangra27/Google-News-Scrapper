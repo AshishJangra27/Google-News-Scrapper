{
 "cells": [
  {
   "cell_type": "code",
   "execution_count": null,
   "id": "e0a2f5d6",
   "metadata": {},
   "outputs": [],
   "source": [
    "import requests\n",
    "import pandas as pd\n",
    "from bs4 import BeautifulSoup\n",
    "\n",
    "topic = input('Enter the title: ').replace(' ','+')\n",
    "\n",
    "link = 'https://www.google.com/search?q=' + topic + '&&tbm=nws'\n",
    "res = requests.get(link)\n",
    "\n",
    "soup = BeautifulSoup(res.text, 'html.parser')"
   ]
  },
  {
   "cell_type": "code",
   "execution_count": null,
   "id": "921ae371",
   "metadata": {},
   "outputs": [],
   "source": [
    "news = []\n",
    "link = []\n",
    "\n",
    "for i in soup.find_all('a')[17:-6]:\n",
    "    news.append(i.text)\n",
    "    link.append(i.get('href')[7:-88])"
   ]
  },
  {
   "cell_type": "code",
   "execution_count": null,
   "id": "ab5f7689",
   "metadata": {},
   "outputs": [],
   "source": [
    "link = list(set(link))"
   ]
  },
  {
   "cell_type": "code",
   "execution_count": null,
   "id": "01248c67",
   "metadata": {},
   "outputs": [],
   "source": [
    "link"
   ]
  },
  {
   "cell_type": "code",
   "execution_count": null,
   "id": "c03bf0dc",
   "metadata": {},
   "outputs": [],
   "source": [
    "news_fin = []\n",
    "\n",
    "for i in range(len(news)):\n",
    "    if(i%2 == 0):\n",
    "        news_fin.append(news[i])"
   ]
  },
  {
   "cell_type": "code",
   "execution_count": null,
   "id": "971809f3",
   "metadata": {},
   "outputs": [],
   "source": [
    "news_fin"
   ]
  },
  {
   "cell_type": "code",
   "execution_count": null,
   "id": "a18b7734",
   "metadata": {},
   "outputs": [],
   "source": [
    "link"
   ]
  },
  {
   "cell_type": "code",
   "execution_count": null,
   "id": "0d931af2",
   "metadata": {},
   "outputs": [],
   "source": [
    "for i in range(len(link)):\n",
    "    print(news_fin[i])\n",
    "    \n",
    "    print(link[i])\n",
    "    print('*'*100)"
   ]
  },
  {
   "cell_type": "code",
   "execution_count": null,
   "id": "2613e938",
   "metadata": {},
   "outputs": [],
   "source": []
  }
 ],
 "metadata": {
  "kernelspec": {
   "display_name": "Python 3 (ipykernel)",
   "language": "python",
   "name": "python3"
  },
  "language_info": {
   "codemirror_mode": {
    "name": "ipython",
    "version": 3
   },
   "file_extension": ".py",
   "mimetype": "text/x-python",
   "name": "python",
   "nbconvert_exporter": "python",
   "pygments_lexer": "ipython3",
   "version": "3.9.7"
  }
 },
 "nbformat": 4,
 "nbformat_minor": 5
}
