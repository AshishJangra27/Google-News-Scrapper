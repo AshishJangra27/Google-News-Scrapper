{
 "cells": [
  {
   "cell_type": "code",
   "execution_count": 90,
   "id": "e0a2f5d6",
   "metadata": {},
   "outputs": [
    {
     "name": "stdout",
     "output_type": "stream",
     "text": [
      "Enter the title: Ukraine vs Russia\n"
     ]
    }
   ],
   "source": [
    "import requests\n",
    "import pandas as pd\n",
    "from bs4 import BeautifulSoup\n",
    "\n",
    "topic = input('Enter the title: ').replace(' ','+')\n",
    "\n",
    "link = 'https://www.google.com/search?q=' + topic + '&&tbm=nws'\n",
    "res = requests.get(link)\n",
    "\n",
    "soup = BeautifulSoup(res.text, 'html.parser')"
   ]
  },
  {
   "cell_type": "code",
   "execution_count": 101,
   "id": "921ae371",
   "metadata": {},
   "outputs": [
    {
     "name": "stdout",
     "output_type": "stream",
     "text": [
      "Russia-Ukraine War highlights: 2,000 civilians killed in hostilities so far; 3rd world war will be nuclear, saCNBC Tv18\n",
      "/url?q=https://www.cnbctv18.com/world/russia-ukraine-war-live-updates-kyiv-putin-zelenskyy-joe-biden-moscow-nato-us-eu-nuclear-weapon-oil-prices-belarussia-rouble-12669792.htm&sa=U&ved=2ahUKEwingbqu0Kn2AhUVpJUCHWVDCWEQxfQBegQIAxAC&usg=AOvVaw3RxmSaMnQFKd4CcTUeYNvR\n",
      "\n",
      "/url?q=https://www.cnbctv18.com/world/russia-ukraine-war-live-updates-kyiv-putin-zelenskyy-joe-biden-moscow-nato-us-eu-nuclear-weapon-oil-prices-belarussia-rouble-12669792.htm&sa=U&ved=2ahUKEwingbqu0Kn2AhUVpJUCHWVDCWEQ0Y8FegQIAxAD&usg=AOvVaw3FpT3VPM2MJ5Gaatrt-fGP\n",
      "Latest Ukraine updates: UNGA votes to demand Russian withdrawalAl Jazeera\n",
      "/url?q=https://www.aljazeera.com/news/2022/3/1/ukraine-on-edge-as-russia-continues-its-assault-liveblog&sa=U&ved=2ahUKEwingbqu0Kn2AhUVpJUCHWVDCWEQxfQBegQICRAC&usg=AOvVaw265hkvfVsslGc2jxgg5IUP\n",
      "\n",
      "/url?q=https://www.aljazeera.com/news/2022/3/1/ukraine-on-edge-as-russia-continues-its-assault-liveblog&sa=U&ved=2ahUKEwingbqu0Kn2AhUVpJUCHWVDCWEQ0Y8FegQICRAD&usg=AOvVaw3kQgxKLJ1H2c7eBMlpkYDS\n",
      "Russian Casualties Expose a Potential Flaw in Putin’s StrategyThe New York Times\n",
      "/url?q=https://www.nytimes.com/2022/03/01/us/politics/russia-ukraine-war-deaths.html&sa=U&ved=2ahUKEwingbqu0Kn2AhUVpJUCHWVDCWEQxfQBegQIBxAC&usg=AOvVaw1AGiC8FYFXWiwpwmYpdKxg\n",
      "\n",
      "/url?q=https://www.nytimes.com/2022/03/01/us/politics/russia-ukraine-war-deaths.html&sa=U&ved=2ahUKEwingbqu0Kn2AhUVpJUCHWVDCWEQ0Y8FegQIBxAD&usg=AOvVaw1ayMcjpkMuDJ5ZC4ADX7Uz\n",
      "China Asked Russia to Delay Ukraine War Until After Olympics, Biden Officials SayThe New York Times\n",
      "/url?q=https://www.nytimes.com/2022/03/02/us/politics/russia-ukraine-china.html&sa=U&ved=2ahUKEwingbqu0Kn2AhUVpJUCHWVDCWEQxfQBegQICBAC&usg=AOvVaw1-bPltC0SWyIk9CRuYrTDc\n",
      "\n",
      "/url?q=https://www.nytimes.com/2022/03/02/us/politics/russia-ukraine-china.html&sa=U&ved=2ahUKEwingbqu0Kn2AhUVpJUCHWVDCWEQ0Y8FegQICBAD&usg=AOvVaw22EJFOAUEZII4eXIOPMl6X\n",
      "Latest Ukraine updates: Kyiv TV tower hit in alleged attackAl Jazeera\n",
      "/url?q=https://www.aljazeera.com/news/2022/2/28/us-announces-plan-to-expel-russian-diplomats-from-un-liveblog&sa=U&ved=2ahUKEwingbqu0Kn2AhUVpJUCHWVDCWEQxfQBegQIBhAC&usg=AOvVaw1K7K2yPr6tUWo6NAcGxFOo\n",
      "\n",
      "/url?q=https://www.aljazeera.com/news/2022/2/28/us-announces-plan-to-expel-russian-diplomats-from-un-liveblog&sa=U&ved=2ahUKEwingbqu0Kn2AhUVpJUCHWVDCWEQ0Y8FegQIBhAD&usg=AOvVaw3r3A5iQmnHaL5FlNnU9ERh\n",
      "Russia-Ukraine War Live: News on Kyiv, Kherson, KharkivThe New York Times\n",
      "/url?q=https://www.nytimes.com/live/2022/03/02/world/ukraine-russia-war&sa=U&ved=2ahUKEwingbqu0Kn2AhUVpJUCHWVDCWEQxfQBegQIARAC&usg=AOvVaw3_UNOfEuZtEcuNmkkmZqNJ\n",
      "\n",
      "/url?q=https://www.nytimes.com/live/2022/03/02/world/ukraine-russia-war&sa=U&ved=2ahUKEwingbqu0Kn2AhUVpJUCHWVDCWEQ0Y8FegQIARAD&usg=AOvVaw244zvSPTOMuGXaoJqb2VUo\n",
      "\"Don't Want To Get Stuck\": Some Indian Students Return From RussiaNDTV.com\n",
      "/url?q=https://www.ndtv.com/india-news/dont-want-to-get-stuck-like-indian-students-in-ukraine-some-indian-students-return-from-russia-2800584&sa=U&ved=2ahUKEwingbqu0Kn2AhUVpJUCHWVDCWEQxfQBegQIAhAC&usg=AOvVaw2dUKkIKL-CgXHurMHdkO7j\n",
      "\n",
      "/url?q=https://www.ndtv.com/india-news/dont-want-to-get-stuck-like-indian-students-in-ukraine-some-indian-students-return-from-russia-2800584&sa=U&ved=2ahUKEwingbqu0Kn2AhUVpJUCHWVDCWEQ0Y8FegQIAhAD&usg=AOvVaw3ATHG4pOCc32zge9u645ic\n",
      "What Happened on Day 6 of Russia’s Invasion of UkraineThe New York Times\n",
      "/url?q=https://www.nytimes.com/live/2022/03/01/world/ukraine-russia-war&sa=U&ved=2ahUKEwingbqu0Kn2AhUVpJUCHWVDCWEQxfQBegQIABAC&usg=AOvVaw2cJIcwKl8j409GcdTGtwMp\n",
      "\n",
      "/url?q=https://www.nytimes.com/live/2022/03/01/world/ukraine-russia-war&sa=U&ved=2ahUKEwingbqu0Kn2AhUVpJUCHWVDCWEQ0Y8FegQIABAD&usg=AOvVaw2pdj6jGUNRbCFuHQBZ_61X\n",
      "Russia Ukraine war news: ICC prosecutor to open probe into war crimes in UkraineTimes of India\n",
      "/url?q=https://timesofindia.indiatimes.com/world/europe/russia-ukraine-war-news-live-updates-russian-troops-ordered-to-advance-in-ukraine-from-all-directions/liveblog/89858719.cms&sa=U&ved=2ahUKEwingbqu0Kn2AhUVpJUCHWVDCWEQxfQBegQIBRAC&usg=AOvVaw3oT1zohOEuTZj_9zsNX7BN\n",
      "\n",
      "/url?q=https://timesofindia.indiatimes.com/world/europe/russia-ukraine-war-news-live-updates-russian-troops-ordered-to-advance-in-ukraine-from-all-directions/liveblog/89858719.cms&sa=U&ved=2ahUKEwingbqu0Kn2AhUVpJUCHWVDCWEQ0Y8FegQIBRAD&usg=AOvVaw3Cl2LUuxG-7Nj8RTPV4pCC\n",
      "Ukraine vs Russia Military Power Comparison: Know Fighting Strengths of both nationsJagran Josh\n",
      "/url?q=https://www.jagranjosh.com/current-affairs/ukraine-vs-russia-military-power-comparison-1645699052-1&sa=U&ved=2ahUKEwingbqu0Kn2AhUVpJUCHWVDCWEQxfQBegQIBBAC&usg=AOvVaw1yCL_wdjUpo_0xSYZ9qGNA\n",
      "\n",
      "/url?q=https://www.jagranjosh.com/current-affairs/ukraine-vs-russia-military-power-comparison-1645699052-1&sa=U&ved=2ahUKEwingbqu0Kn2AhUVpJUCHWVDCWEQ0Y8FegQIBBAD&usg=AOvVaw087jurvcYd2AG4jIYujTTh\n"
     ]
    }
   ],
   "source": [
    "for i in soup.find_all('a')[17:-6]:\n",
    "    print(i.text)\n",
    "    print(i.get('href'))"
   ]
  },
  {
   "cell_type": "code",
   "execution_count": 93,
   "id": "e97b962d",
   "metadata": {},
   "outputs": [
    {
     "name": "stdout",
     "output_type": "stream",
     "text": [
      "<a href=\"/?sa=X&amp;ved=0ahUKEwingbqu0Kn2AhUVpJUCHWVDCWEQOwgC\"><span class=\"V6gwVd\">G</span><span class=\"iWkuvd\">o</span><span class=\"cDrQ7\">o</span><span class=\"V6gwVd\">g</span><span class=\"ntlR9\">l</span><span class=\"iWkuvd tJ3Myc\">e</span></a>\n",
      "<a class=\"l\" href=\"/?output=search&amp;ie=UTF-8&amp;tbm=nws&amp;sa=X&amp;ved=0ahUKEwingbqu0Kn2AhUVpJUCHWVDCWEQPAgE\"><span class=\"V6gwVd\">G</span><span class=\"iWkuvd\">o</span><span class=\"cDrQ7\">o</span><span class=\"V6gwVd\">g</span><span class=\"ntlR9\">l</span><span class=\"iWkuvd tJ3Myc\">e</span></a>\n",
      "<a href=\"/search?q=Ukraine+vs+Russia&amp;tbm=nws&amp;ie=UTF-8&amp;gbv=1&amp;sei=RIogYqfPKZXI1sQP5YaliAY\">here</a>\n",
      "<a class=\"eZt8xd\" href=\"/search?q=Ukraine+vs+Russia&amp;ie=UTF-8&amp;source=lnms&amp;sa=X&amp;ved=0ahUKEwingbqu0Kn2AhUVpJUCHWVDCWEQ_AUIBygA\">All</a>\n",
      "<a class=\"eZt8xd\" href=\"/search?q=Ukraine+vs+Russia&amp;ie=UTF-8&amp;tbm=isch&amp;source=lnms&amp;sa=X&amp;ved=0ahUKEwingbqu0Kn2AhUVpJUCHWVDCWEQ_AUICSgC\">Images</a>\n",
      "<a class=\"eZt8xd\" href=\"/search?q=Ukraine+vs+Russia&amp;ie=UTF-8&amp;tbm=vid&amp;source=lnms&amp;sa=X&amp;ved=0ahUKEwingbqu0Kn2AhUVpJUCHWVDCWEQ_AUICigD\">Videos</a>\n",
      "<a href=\"https://maps.google.com/maps?q=Ukraine+vs+Russia&amp;um=1&amp;ie=UTF-8&amp;sa=X&amp;ved=0ahUKEwingbqu0Kn2AhUVpJUCHWVDCWEQ_AUICygE\">Maps</a>\n",
      "<a href=\"/search?q=Ukraine+vs+Russia&amp;ie=UTF-8&amp;tbm=shop&amp;source=lnms&amp;sa=X&amp;ved=0ahUKEwingbqu0Kn2AhUVpJUCHWVDCWEQ_AUIDCgF\">Shopping</a>\n",
      "<a href=\"/search?q=Ukraine+vs+Russia&amp;ie=UTF-8&amp;tbm=bks&amp;source=lnms&amp;sa=X&amp;ved=0ahUKEwingbqu0Kn2AhUVpJUCHWVDCWEQ_AUIDSgG\">Books</a>\n",
      "<a href=\"/advanced_search\" id=\"st-toggle\" role=\"button\" style=\"white-space:nowrap\">Search tools</a>\n",
      "<a href=\"/search?q=Ukraine+vs+Russia&amp;ie=UTF-8&amp;tbm=nws&amp;source=lnt&amp;tbs=qdr:h&amp;sa=X&amp;ved=0ahUKEwingbqu0Kn2AhUVpJUCHWVDCWEQpwUIDw\">Past hour</a>\n",
      "<a href=\"/search?q=Ukraine+vs+Russia&amp;ie=UTF-8&amp;tbm=nws&amp;source=lnt&amp;tbs=qdr:d&amp;sa=X&amp;ved=0ahUKEwingbqu0Kn2AhUVpJUCHWVDCWEQpwUIEA\">Past 24 hours</a>\n",
      "<a href=\"/search?q=Ukraine+vs+Russia&amp;ie=UTF-8&amp;tbm=nws&amp;source=lnt&amp;tbs=qdr:w&amp;sa=X&amp;ved=0ahUKEwingbqu0Kn2AhUVpJUCHWVDCWEQpwUIEQ\">Past week</a>\n",
      "<a href=\"/search?q=Ukraine+vs+Russia&amp;ie=UTF-8&amp;tbm=nws&amp;source=lnt&amp;tbs=qdr:m&amp;sa=X&amp;ved=0ahUKEwingbqu0Kn2AhUVpJUCHWVDCWEQpwUIEg\">Past month</a>\n",
      "<a href=\"/search?q=Ukraine+vs+Russia&amp;ie=UTF-8&amp;tbm=nws&amp;source=lnt&amp;tbs=qdr:y&amp;sa=X&amp;ved=0ahUKEwingbqu0Kn2AhUVpJUCHWVDCWEQpwUIEw\">Past year</a>\n",
      "<a href=\"/search?q=Ukraine+vs+Russia&amp;ie=UTF-8&amp;tbm=nws&amp;source=lnt&amp;tbs=ar:1&amp;sa=X&amp;ved=0ahUKEwingbqu0Kn2AhUVpJUCHWVDCWEQpwUIFA\">Archives</a>\n",
      "<a href=\"/search?q=Ukraine+vs+Russia&amp;ie=UTF-8&amp;tbm=nws&amp;source=lnt&amp;tbs=sbd:1&amp;sa=X&amp;ved=0ahUKEwingbqu0Kn2AhUVpJUCHWVDCWEQpwUIFg\">Sorted by date</a>\n",
      "<a href=\"/url?q=https://www.cnbctv18.com/world/russia-ukraine-war-live-updates-kyiv-putin-zelenskyy-joe-biden-moscow-nato-us-eu-nuclear-weapon-oil-prices-belarussia-rouble-12669792.htm&amp;sa=U&amp;ved=2ahUKEwingbqu0Kn2AhUVpJUCHWVDCWEQxfQBegQIAxAC&amp;usg=AOvVaw3RxmSaMnQFKd4CcTUeYNvR\"><h3 class=\"zBAuLc l97dzf\"><div class=\"BNeawe vvjwJb AP7Wnd\">Russia-Ukraine War highlights: 2,000 civilians killed in hostilities so far; 3rd world war will be nuclear, sa</div></h3><div class=\"BNeawe UPmit AP7Wnd\">CNBC Tv18</div></a>\n",
      "<a href=\"/url?q=https://www.cnbctv18.com/world/russia-ukraine-war-live-updates-kyiv-putin-zelenskyy-joe-biden-moscow-nato-us-eu-nuclear-weapon-oil-prices-belarussia-rouble-12669792.htm&amp;sa=U&amp;ved=2ahUKEwingbqu0Kn2AhUVpJUCHWVDCWEQ0Y8FegQIAxAD&amp;usg=AOvVaw3FpT3VPM2MJ5Gaatrt-fGP\"><div class=\"lcJF1d Q6Xouf G6SP0b\"><div style=\"width:120px;height:66px;position:static\"><img alt=\"\" class=\"h1hFNe\" data-deferred=\"1\" id=\"dimg_5\" src=\"data:image/gif;base64,R0lGODlhAQABAIAAAP///////yH5BAEKAAEALAAAAAABAAEAAAICTAEAOw==\" style=\"width:120px;height:66px\"/></div></div></a>\n",
      "<a href=\"/url?q=https://www.aljazeera.com/news/2022/3/1/ukraine-on-edge-as-russia-continues-its-assault-liveblog&amp;sa=U&amp;ved=2ahUKEwingbqu0Kn2AhUVpJUCHWVDCWEQxfQBegQICRAC&amp;usg=AOvVaw265hkvfVsslGc2jxgg5IUP\"><h3 class=\"zBAuLc l97dzf\"><div class=\"BNeawe vvjwJb AP7Wnd\">Latest Ukraine updates: UNGA votes to demand Russian withdrawal</div></h3><div class=\"BNeawe UPmit AP7Wnd\">Al Jazeera</div></a>\n",
      "<a href=\"/url?q=https://www.aljazeera.com/news/2022/3/1/ukraine-on-edge-as-russia-continues-its-assault-liveblog&amp;sa=U&amp;ved=2ahUKEwingbqu0Kn2AhUVpJUCHWVDCWEQ0Y8FegQICRAD&amp;usg=AOvVaw3kQgxKLJ1H2c7eBMlpkYDS\"><div class=\"lcJF1d Q6Xouf G6SP0b\"><div style=\"width:120px;height:66px;position:static\"><img alt=\"\" class=\"h1hFNe\" data-deferred=\"1\" id=\"dimg_19\" src=\"data:image/gif;base64,R0lGODlhAQABAIAAAP///////yH5BAEKAAEALAAAAAABAAEAAAICTAEAOw==\" style=\"width:120px;height:66px\"/></div></div></a>\n",
      "<a href=\"/url?q=https://www.nytimes.com/2022/03/01/us/politics/russia-ukraine-war-deaths.html&amp;sa=U&amp;ved=2ahUKEwingbqu0Kn2AhUVpJUCHWVDCWEQxfQBegQIBxAC&amp;usg=AOvVaw1AGiC8FYFXWiwpwmYpdKxg\"><h3 class=\"zBAuLc l97dzf\"><div class=\"BNeawe vvjwJb AP7Wnd\">Russian Casualties Expose a Potential Flaw in Putin’s Strategy</div></h3><div class=\"BNeawe UPmit AP7Wnd\">The New York Times</div></a>\n",
      "<a href=\"/url?q=https://www.nytimes.com/2022/03/01/us/politics/russia-ukraine-war-deaths.html&amp;sa=U&amp;ved=2ahUKEwingbqu0Kn2AhUVpJUCHWVDCWEQ0Y8FegQIBxAD&amp;usg=AOvVaw1ayMcjpkMuDJ5ZC4ADX7Uz\"><div class=\"lcJF1d Q6Xouf G6SP0b\"><div style=\"width:120px;height:66px;position:static\"><img alt=\"\" class=\"h1hFNe\" data-deferred=\"1\" id=\"dimg_15\" src=\"data:image/gif;base64,R0lGODlhAQABAIAAAP///////yH5BAEKAAEALAAAAAABAAEAAAICTAEAOw==\" style=\"width:120px;height:66px\"/></div></div></a>\n",
      "<a href=\"/url?q=https://www.nytimes.com/2022/03/02/us/politics/russia-ukraine-china.html&amp;sa=U&amp;ved=2ahUKEwingbqu0Kn2AhUVpJUCHWVDCWEQxfQBegQICBAC&amp;usg=AOvVaw1-bPltC0SWyIk9CRuYrTDc\"><h3 class=\"zBAuLc l97dzf\"><div class=\"BNeawe vvjwJb AP7Wnd\">China Asked Russia to Delay Ukraine War Until After Olympics, Biden Officials Say</div></h3><div class=\"BNeawe UPmit AP7Wnd\">The New York Times</div></a>\n",
      "<a href=\"/url?q=https://www.nytimes.com/2022/03/02/us/politics/russia-ukraine-china.html&amp;sa=U&amp;ved=2ahUKEwingbqu0Kn2AhUVpJUCHWVDCWEQ0Y8FegQICBAD&amp;usg=AOvVaw22EJFOAUEZII4eXIOPMl6X\"><div class=\"lcJF1d Q6Xouf G6SP0b\"><div style=\"width:120px;height:66px;position:static\"><img alt=\"\" class=\"h1hFNe\" data-deferred=\"1\" id=\"dimg_17\" src=\"data:image/gif;base64,R0lGODlhAQABAIAAAP///////yH5BAEKAAEALAAAAAABAAEAAAICTAEAOw==\" style=\"width:120px;height:66px\"/></div></div></a>\n",
      "<a href=\"/url?q=https://www.aljazeera.com/news/2022/2/28/us-announces-plan-to-expel-russian-diplomats-from-un-liveblog&amp;sa=U&amp;ved=2ahUKEwingbqu0Kn2AhUVpJUCHWVDCWEQxfQBegQIBhAC&amp;usg=AOvVaw1K7K2yPr6tUWo6NAcGxFOo\"><h3 class=\"zBAuLc l97dzf\"><div class=\"BNeawe vvjwJb AP7Wnd\">Latest Ukraine updates: Kyiv TV tower hit in alleged attack</div></h3><div class=\"BNeawe UPmit AP7Wnd\">Al Jazeera</div></a>\n",
      "<a href=\"/url?q=https://www.aljazeera.com/news/2022/2/28/us-announces-plan-to-expel-russian-diplomats-from-un-liveblog&amp;sa=U&amp;ved=2ahUKEwingbqu0Kn2AhUVpJUCHWVDCWEQ0Y8FegQIBhAD&amp;usg=AOvVaw3r3A5iQmnHaL5FlNnU9ERh\"><div class=\"lcJF1d Q6Xouf G6SP0b\"><div style=\"width:120px;height:66px;position:static\"><img alt=\"\" class=\"h1hFNe\" data-deferred=\"1\" id=\"dimg_12\" src=\"data:image/gif;base64,R0lGODlhAQABAIAAAP///////yH5BAEKAAEALAAAAAABAAEAAAICTAEAOw==\" style=\"width:120px;height:66px\"/></div></div></a>\n",
      "<a href=\"/url?q=https://www.nytimes.com/live/2022/03/02/world/ukraine-russia-war&amp;sa=U&amp;ved=2ahUKEwingbqu0Kn2AhUVpJUCHWVDCWEQxfQBegQIARAC&amp;usg=AOvVaw3_UNOfEuZtEcuNmkkmZqNJ\"><h3 class=\"zBAuLc l97dzf\"><div class=\"BNeawe vvjwJb AP7Wnd\">Russia-Ukraine War Live: News on Kyiv, Kherson, Kharkiv</div></h3><div class=\"BNeawe UPmit AP7Wnd\">The New York Times</div></a>\n",
      "<a href=\"/url?q=https://www.nytimes.com/live/2022/03/02/world/ukraine-russia-war&amp;sa=U&amp;ved=2ahUKEwingbqu0Kn2AhUVpJUCHWVDCWEQ0Y8FegQIARAD&amp;usg=AOvVaw244zvSPTOMuGXaoJqb2VUo\"><div class=\"lcJF1d Q6Xouf G6SP0b\"><div style=\"width:120px;height:66px;position:static\"><img alt=\"\" class=\"h1hFNe\" data-deferred=\"1\" id=\"dimg_2\" src=\"data:image/gif;base64,R0lGODlhAQABAIAAAP///////yH5BAEKAAEALAAAAAABAAEAAAICTAEAOw==\" style=\"width:120px;height:66px\"/></div></div></a>\n",
      "<a href=\"/url?q=https://www.ndtv.com/india-news/dont-want-to-get-stuck-like-indian-students-in-ukraine-some-indian-students-return-from-russia-2800584&amp;sa=U&amp;ved=2ahUKEwingbqu0Kn2AhUVpJUCHWVDCWEQxfQBegQIAhAC&amp;usg=AOvVaw2dUKkIKL-CgXHurMHdkO7j\"><h3 class=\"zBAuLc l97dzf\"><div class=\"BNeawe vvjwJb AP7Wnd\">\"Don't Want To Get Stuck\": Some Indian Students Return From Russia</div></h3><div class=\"BNeawe UPmit AP7Wnd\">NDTV.com</div></a>\n",
      "<a href=\"/url?q=https://www.ndtv.com/india-news/dont-want-to-get-stuck-like-indian-students-in-ukraine-some-indian-students-return-from-russia-2800584&amp;sa=U&amp;ved=2ahUKEwingbqu0Kn2AhUVpJUCHWVDCWEQ0Y8FegQIAhAD&amp;usg=AOvVaw3ATHG4pOCc32zge9u645ic\"><div class=\"lcJF1d Q6Xouf G6SP0b\"><div style=\"width:120px;height:66px;position:static\"><img alt=\"\" class=\"h1hFNe\" data-deferred=\"1\" id=\"dimg_6\" src=\"data:image/gif;base64,R0lGODlhAQABAIAAAP///////yH5BAEKAAEALAAAAAABAAEAAAICTAEAOw==\" style=\"width:120px;height:66px\"/></div></div></a>\n",
      "<a href=\"/url?q=https://www.nytimes.com/live/2022/03/01/world/ukraine-russia-war&amp;sa=U&amp;ved=2ahUKEwingbqu0Kn2AhUVpJUCHWVDCWEQxfQBegQIABAC&amp;usg=AOvVaw2cJIcwKl8j409GcdTGtwMp\"><h3 class=\"zBAuLc l97dzf\"><div class=\"BNeawe vvjwJb AP7Wnd\">What Happened on Day 6 of Russia’s Invasion of Ukraine</div></h3><div class=\"BNeawe UPmit AP7Wnd\">The New York Times</div></a>\n",
      "<a href=\"/url?q=https://www.nytimes.com/live/2022/03/01/world/ukraine-russia-war&amp;sa=U&amp;ved=2ahUKEwingbqu0Kn2AhUVpJUCHWVDCWEQ0Y8FegQIABAD&amp;usg=AOvVaw2pdj6jGUNRbCFuHQBZ_61X\"><div class=\"lcJF1d Q6Xouf G6SP0b\"><div style=\"width:120px;height:66px;position:static\"><img alt=\"\" class=\"h1hFNe\" data-deferred=\"1\" id=\"dimg_9\" src=\"data:image/gif;base64,R0lGODlhAQABAIAAAP///////yH5BAEKAAEALAAAAAABAAEAAAICTAEAOw==\" style=\"width:120px;height:66px\"/></div></div></a>\n",
      "<a href=\"/url?q=https://timesofindia.indiatimes.com/world/europe/russia-ukraine-war-news-live-updates-russian-troops-ordered-to-advance-in-ukraine-from-all-directions/liveblog/89858719.cms&amp;sa=U&amp;ved=2ahUKEwingbqu0Kn2AhUVpJUCHWVDCWEQxfQBegQIBRAC&amp;usg=AOvVaw3oT1zohOEuTZj_9zsNX7BN\"><h3 class=\"zBAuLc l97dzf\"><div class=\"BNeawe vvjwJb AP7Wnd\">Russia Ukraine war news: ICC prosecutor to open probe into war crimes in Ukraine</div></h3><div class=\"BNeawe UPmit AP7Wnd\">Times of India</div></a>\n",
      "<a href=\"/url?q=https://timesofindia.indiatimes.com/world/europe/russia-ukraine-war-news-live-updates-russian-troops-ordered-to-advance-in-ukraine-from-all-directions/liveblog/89858719.cms&amp;sa=U&amp;ved=2ahUKEwingbqu0Kn2AhUVpJUCHWVDCWEQ0Y8FegQIBRAD&amp;usg=AOvVaw3Cl2LUuxG-7Nj8RTPV4pCC\"><div class=\"lcJF1d Q6Xouf G6SP0b\"><div style=\"width:120px;height:66px;position:static\"><img alt=\"\" class=\"h1hFNe\" data-deferred=\"1\" id=\"dimg_11\" src=\"data:image/gif;base64,R0lGODlhAQABAIAAAP///////yH5BAEKAAEALAAAAAABAAEAAAICTAEAOw==\" style=\"width:120px;height:66px\"/></div></div></a>\n",
      "<a href=\"/url?q=https://www.jagranjosh.com/current-affairs/ukraine-vs-russia-military-power-comparison-1645699052-1&amp;sa=U&amp;ved=2ahUKEwingbqu0Kn2AhUVpJUCHWVDCWEQxfQBegQIBBAC&amp;usg=AOvVaw1yCL_wdjUpo_0xSYZ9qGNA\"><h3 class=\"zBAuLc l97dzf\"><div class=\"BNeawe vvjwJb AP7Wnd\">Ukraine vs Russia Military Power Comparison: Know Fighting Strengths of both nations</div></h3><div class=\"BNeawe UPmit AP7Wnd\">Jagran Josh</div></a>\n",
      "<a href=\"/url?q=https://www.jagranjosh.com/current-affairs/ukraine-vs-russia-military-power-comparison-1645699052-1&amp;sa=U&amp;ved=2ahUKEwingbqu0Kn2AhUVpJUCHWVDCWEQ0Y8FegQIBBAD&amp;usg=AOvVaw087jurvcYd2AG4jIYujTTh\"><div class=\"lcJF1d Q6Xouf G6SP0b\"><div style=\"width:120px;height:66px;position:static\"><img alt=\"\" class=\"h1hFNe\" data-deferred=\"1\" id=\"dimg_1\" src=\"data:image/gif;base64,R0lGODlhAQABAIAAAP///////yH5BAEKAAEALAAAAAABAAEAAAICTAEAOw==\" style=\"width:120px;height:66px\"/></div></div></a>\n",
      "<a aria-label=\"Next page\" class=\"nBDE1b G5eFlf\" href=\"/search?q=Ukraine+vs+Russia&amp;ie=UTF-8&amp;tbm=nws&amp;ei=RIogYqfPKZXI1sQP5YaliAY&amp;start=10&amp;sa=N\">Next &gt;</a>\n",
      "<a href=\"/url?q=https://support.google.com/websearch%3Fp%3Dws_settings_location%26hl%3Den-IN&amp;sa=U&amp;ved=0ahUKEwingbqu0Kn2AhUVpJUCHWVDCWEQty4IaA&amp;usg=AOvVaw36j2hkW4z9VkSn-jibqckU\">Learn more</a>\n",
      "<a href=\"/url?q=https://accounts.google.com/ServiceLogin%3Fcontinue%3Dhttps://www.google.com/search%253Fq%253DUkraine%252Bvs%252BRussia%2526tbm%253Dnws%26hl%3Den&amp;sa=U&amp;ved=0ahUKEwingbqu0Kn2AhUVpJUCHWVDCWEQxs8CCGk&amp;usg=AOvVaw3hHZ4uD2LauyyY7Bn8WDMc\">Sign in</a>\n",
      "<a class=\"xeDNfc\" href=\"https://www.google.com/preferences?hl=en-IN&amp;fg=1&amp;sa=X&amp;ved=0ahUKEwingbqu0Kn2AhUVpJUCHWVDCWEQ5fUCCGo\">Settings</a>\n",
      "<a class=\"xeDNfc\" href=\"https://policies.google.com/privacy?hl=en-IN&amp;fg=1\">Privacy</a>\n",
      "<a class=\"xeDNfc\" href=\"https://policies.google.com/terms?hl=en-IN&amp;fg=1\">Terms</a>\n"
     ]
    }
   ],
   "source": [
    "for i in soup.find_all('a'):\n",
    "    print(i)"
   ]
  },
  {
   "cell_type": "code",
   "execution_count": 79,
   "id": "5828ee08",
   "metadata": {},
   "outputs": [
    {
     "data": {
      "text/plain": [
       "'https://www.google.com/search?q=ukraine+vs+russia&&tbm=nws'"
      ]
     },
     "execution_count": 79,
     "metadata": {},
     "output_type": "execute_result"
    }
   ],
   "source": [
    "link"
   ]
  },
  {
   "cell_type": "code",
   "execution_count": 80,
   "id": "a381c9f2",
   "metadata": {},
   "outputs": [
    {
     "name": "stdout",
     "output_type": "stream",
     "text": [
      "Enter the title: sad\n"
     ]
    }
   ],
   "source": [
    "import requests\n",
    "import pandas as pd\n",
    "from bs4 import BeautifulSoup\n",
    "\n",
    "topic = input('Enter the title: ').replace(' ','+')\n",
    "\n",
    "link = 'https://www.amazon.com/'\n",
    "res = requests.get(link)\n",
    "\n",
    "soup = BeautifulSoup(res.text, 'html.parser')"
   ]
  },
  {
   "cell_type": "code",
   "execution_count": 81,
   "id": "0d6a0ad7",
   "metadata": {},
   "outputs": [
    {
     "data": {
      "text/plain": [
       "<!--\n",
       "        To discuss automated access to Amazon data please contact api-services-support@amazon.com.\n",
       "        For information about migrating to our APIs refer to our Marketplace APIs at https://developer.amazonservices.com/ref=rm_5_sv, or our Product Advertising API at https://affiliate-program.amazon.com/gp/advertising/api/detail/main.html/ref=rm_5_ac for advertising use cases.\n",
       "-->\n",
       "<!DOCTYPE html>\n",
       "\n",
       "<html>\n",
       "<head>\n",
       "<meta charset=\"utf-8\"/>\n",
       "<meta content=\"ie=edge\" http-equiv=\"x-ua-compatible\"/>\n",
       "<meta content=\"width=device-width, initial-scale=1, shrink-to-fit=no\" name=\"viewport\"/>\n",
       "<title>Sorry! Something went wrong!</title>\n",
       "<style>\n",
       "  html, body {\n",
       "    padding: 0;\n",
       "    margin: 0\n",
       "  }\n",
       "\n",
       "  img {\n",
       "    border: 0\n",
       "  }\n",
       "\n",
       "  #a {\n",
       "    background: #232f3e;\n",
       "    padding: 11px 11px 11px 192px\n",
       "  }\n",
       "\n",
       "  #b {\n",
       "    position: absolute;\n",
       "    left: 22px;\n",
       "    top: 12px\n",
       "  }\n",
       "\n",
       "  #c {\n",
       "    position: relative;\n",
       "    max-width: 800px;\n",
       "    padding: 0 40px 0 0\n",
       "  }\n",
       "\n",
       "  #e, #f {\n",
       "    height: 35px;\n",
       "    border: 0;\n",
       "    font-size: 1em\n",
       "  }\n",
       "\n",
       "  #e {\n",
       "    width: 100%;\n",
       "    margin: 0;\n",
       "    padding: 0 10px;\n",
       "    border-radius: 4px 0 0 4px\n",
       "  }\n",
       "\n",
       "  #f {\n",
       "    cursor: pointer;\n",
       "    background: #febd69;\n",
       "    font-weight: bold;\n",
       "    border-radius: 0 4px 4px 0;\n",
       "    -webkit-appearance: none;\n",
       "    position: absolute;\n",
       "    top: 0;\n",
       "    right: 0;\n",
       "    padding: 0 12px\n",
       "  }\n",
       "\n",
       "  @media (max-width: 500px) {\n",
       "    #a {\n",
       "      padding: 55px 10px 10px\n",
       "    }\n",
       "\n",
       "    #b {\n",
       "      left: 6px\n",
       "    }\n",
       "  }\n",
       "\n",
       "  #g {\n",
       "    text-align: center;\n",
       "    margin: 30px 0\n",
       "  }\n",
       "\n",
       "  #g img {\n",
       "    max-width: 90%\n",
       "  }\n",
       "\n",
       "  #d {\n",
       "    display: none\n",
       "  }\n",
       "\n",
       "  #d[src] {\n",
       "    display: inline\n",
       "  }\n",
       "  </style>\n",
       "</head>\n",
       "<body>\n",
       "<a href=\"/ref=cs_503_logo\"><img alt=\"Amazon.com\" id=\"b\" src=\"https://images-na.ssl-images-amazon.com/images/G/01/error/logo._TTD_.png\"/></a>\n",
       "<form accept-charset=\"utf-8\" action=\"/s\" id=\"a\" method=\"GET\" role=\"search\">\n",
       "<div id=\"c\">\n",
       "<input id=\"e\" name=\"field-keywords\" placeholder=\"Search\"/>\n",
       "<input name=\"ref\" type=\"hidden\" value=\"cs_503_search\"/>\n",
       "<input id=\"f\" type=\"submit\" value=\"Go\"/>\n",
       "</div>\n",
       "</form>\n",
       "<div id=\"g\">\n",
       "<div><a href=\"/ref=cs_503_link\"><img alt=\"Sorry! Something went wrong on our end. Please go back and try again or go to Amazon's home page.\" src=\"https://images-na.ssl-images-amazon.com/images/G/01/error/500_503.png\"/></a>\n",
       "</div>\n",
       "<a href=\"/dogsofamazon/ref=cs_503_d\" rel=\"noopener noreferrer\" target=\"_blank\"><img alt=\"Dogs of Amazon\" id=\"d\"/></a>\n",
       "<script>document.getElementById(\"d\").src = \"https://images-na.ssl-images-amazon.com/images/G/01/error/\" + (Math.floor(Math.random() * 43) + 1) + \"._TTD_.jpg\";</script>\n",
       "</div>\n",
       "</body>\n",
       "</html>"
      ]
     },
     "execution_count": 81,
     "metadata": {},
     "output_type": "execute_result"
    }
   ],
   "source": [
    "soup"
   ]
  },
  {
   "cell_type": "code",
   "execution_count": null,
   "id": "d1c71e9d",
   "metadata": {},
   "outputs": [],
   "source": []
  }
 ],
 "metadata": {
  "kernelspec": {
   "display_name": "Python 3 (ipykernel)",
   "language": "python",
   "name": "python3"
  },
  "language_info": {
   "codemirror_mode": {
    "name": "ipython",
    "version": 3
   },
   "file_extension": ".py",
   "mimetype": "text/x-python",
   "name": "python",
   "nbconvert_exporter": "python",
   "pygments_lexer": "ipython3",
   "version": "3.9.7"
  }
 },
 "nbformat": 4,
 "nbformat_minor": 5
}
