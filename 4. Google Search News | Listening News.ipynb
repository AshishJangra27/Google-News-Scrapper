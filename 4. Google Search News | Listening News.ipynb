{
 "cells": [
  {
   "cell_type": "code",
   "execution_count": 18,
   "id": "e0a2f5d6",
   "metadata": {},
   "outputs": [
    {
     "name": "stdout",
     "output_type": "stream",
     "text": [
      "Enter the title: Punjab Elections\n"
     ]
    }
   ],
   "source": [
    "import os\n",
    "import requests\n",
    "import pandas as pd\n",
    "from bs4 import BeautifulSoup\n",
    "\n",
    "topic = input('Enter the title: ').replace(' ','+')\n",
    "\n",
    "link = 'https://www.google.com/search?q=' + topic + '&&tbm=nws'\n",
    "res = requests.get(link)\n",
    "\n",
    "soup = BeautifulSoup(res.text, 'html.parser')"
   ]
  },
  {
   "cell_type": "code",
   "execution_count": 20,
   "id": "921ae371",
   "metadata": {},
   "outputs": [
    {
     "name": "stdout",
     "output_type": "stream",
     "text": [
      "Ahead of Punjab Assembly election results, leaders make a beeline for astrologersTribune India\n",
      "Punjab Assembly Elections: Shahkot Assembly Constituency Result 2022Deccan Herald\n",
      "Punjab election 2022: Polling ends in border state, voter turnout at 70.2%Hindustan Times\n",
      "Punjab Elections 2022: Congress's Internal Assessment Hints at Poor OutcomeNews18\n",
      "Punjab elections: ‘People disappointed in Sidhu, his language,’ says Congress MPHindustan Times\n"
     ]
    },
    {
     "name": "stderr",
     "output_type": "stream",
     "text": [
      "sh: -c: line 0: unexpected EOF while looking for matching `''\n",
      "sh: -c: line 1: syntax error: unexpected end of file\n"
     ]
    },
    {
     "name": "stdout",
     "output_type": "stream",
     "text": [
      "Punjab polls: Psephologists predict fractured mandate amid decline in voter turnoutIndia Today\n",
      "Punjab assembly elections: What did the youth vote forHindustan Times\n",
      "Punjab Elections 2022: Swing seats, strongholds, and beginner’s luckIndia Today\n",
      "Punjab Assembly Elections: Gurdaspur Assembly Constituency ...Deccan Herald\n",
      "Punjab elections: Stiff triangular contest on 50% seats in Majha beltHindustan Times\n"
     ]
    }
   ],
   "source": [
    "news = []\n",
    "link = []\n",
    "\n",
    "for i in soup.find_all('a')[17:-6]:\n",
    "    news.append(i.text)\n",
    "    link.append(i.get('href')[7:-88])\n",
    "    \n",
    "link = list(set(link))\n",
    "\n",
    "news_fin = []\n",
    "for i in range(len(news)):\n",
    "    if(i%2 == 0):\n",
    "        news_fin.append(news[i])\n",
    "        \n",
    "for i in range(len(link)):\n",
    "    \n",
    "    print(news_fin[i])\n",
    "    os.system('say '+ news_fin[i])\n",
    "    \n",
    "    print(link[i])"
   ]
  },
  {
   "cell_type": "code",
   "execution_count": 32,
   "id": "60557e50",
   "metadata": {},
   "outputs": [],
   "source": [
    "news_fin = pd.Series(news_fin)\n",
    "link     = pd.Series(link )\n",
    "\n",
    "df = pd.concat([news_fin,link], axis = 1)"
   ]
  },
  {
   "cell_type": "code",
   "execution_count": 34,
   "id": "24d00f9b",
   "metadata": {},
   "outputs": [],
   "source": [
    "df.to_csv('news.csv')"
   ]
  },
  {
   "cell_type": "code",
   "execution_count": null,
   "id": "72f6ab51",
   "metadata": {},
   "outputs": [],
   "source": []
  }
 ],
 "metadata": {
  "kernelspec": {
   "display_name": "Python 3 (ipykernel)",
   "language": "python",
   "name": "python3"
  },
  "language_info": {
   "codemirror_mode": {
    "name": "ipython",
    "version": 3
   },
   "file_extension": ".py",
   "mimetype": "text/x-python",
   "name": "python",
   "nbconvert_exporter": "python",
   "pygments_lexer": "ipython3",
   "version": "3.9.7"
  }
 },
 "nbformat": 4,
 "nbformat_minor": 5
}
